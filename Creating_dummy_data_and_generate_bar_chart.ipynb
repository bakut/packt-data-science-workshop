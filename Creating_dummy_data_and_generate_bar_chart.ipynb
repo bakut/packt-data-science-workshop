{
  "nbformat": 4,
  "nbformat_minor": 0,
  "metadata": {
    "colab": {
      "name": "Creating dummy data and generate bar chart.ipynb",
      "provenance": [],
      "authorship_tag": "ABX9TyPtOmnjgySQLKjh57QmuyGT",
      "include_colab_link": true
    },
    "kernelspec": {
      "name": "python3",
      "display_name": "Python 3"
    }
  },
  "cells": [
    {
      "cell_type": "markdown",
      "metadata": {
        "id": "view-in-github",
        "colab_type": "text"
      },
      "source": [
        "<a href=\"https://colab.research.google.com/github/bakut/packt-data-science-workshop/blob/master/Creating_dummy_data_and_generate_bar_chart.ipynb\" target=\"_parent\"><img src=\"https://colab.research.google.com/assets/colab-badge.svg\" alt=\"Open In Colab\"/></a>"
      ]
    },
    {
      "cell_type": "code",
      "metadata": {
        "id": "j70iLm0_jdrk",
        "colab_type": "code",
        "colab": {}
      },
      "source": [
        "#importing library files\n",
        "import matplotlib.pyplot as plt\n",
        "import numpy as np"
      ],
      "execution_count": 0,
      "outputs": []
    },
    {
      "cell_type": "code",
      "metadata": {
        "id": "zXlLYbhBkavD",
        "colab_type": "code",
        "colab": {}
      },
      "source": [
        "#created a simple list of categories\n",
        "jobList = ['admin', 'scientist', 'doctor', 'management']"
      ],
      "execution_count": 0,
      "outputs": []
    },
    {
      "cell_type": "code",
      "metadata": {
        "id": "IUnCt02_kyfu",
        "colab_type": "code",
        "colab": {}
      },
      "source": [
        "#getting two categories ('Yes', 'No') for each of jobs\n",
        "jobYes = [20, 60, 70, 40]\n",
        "jobNo = [80, 40, 30, 60]"
      ],
      "execution_count": 0,
      "outputs": []
    },
    {
      "cell_type": "code",
      "metadata": {
        "id": "xk8b784IlUvL",
        "colab_type": "code",
        "colab": {}
      },
      "source": [
        "#get the length of x axis labels and arranging ots indexes\n",
        "xlabels = len(jobList)\n",
        "ind = np.arange(xlabels)"
      ],
      "execution_count": 0,
      "outputs": []
    },
    {
      "cell_type": "code",
      "metadata": {
        "id": "RttDIwFAlxka",
        "colab_type": "code",
        "colab": {}
      },
      "source": [
        "#get width of each bar\n",
        "width = 0.35"
      ],
      "execution_count": 0,
      "outputs": []
    },
    {
      "cell_type": "code",
      "metadata": {
        "id": "qSzcmtmOmC-K",
        "colab_type": "code",
        "colab": {
          "base_uri": "https://localhost:8080/",
          "height": 264
        },
        "outputId": "da77f738-51d4-4e6b-ada4-f33e7932b5db"
      },
      "source": [
        "#getting the plots\n",
        "p1 = plt.bar(ind, jobYes, width)\n",
        "p2 = plt.bar(ind, jobNo, width, bottom = jobYes)"
      ],
      "execution_count": 9,
      "outputs": [
        {
          "output_type": "display_data",
          "data": {
            "image/png": "[encoded data removed]",
            "text/plain": [
              "<Figure size 432x288 with 1 Axes>"
            ]
          },
          "metadata": {
            "tags": [],
            "needs_background": "light"
          }
        }
      ]
    },
    {
      "cell_type": "code",
      "metadata": {
        "id": "vx66MS2Jmbjm",
        "colab_type": "code",
        "colab": {
          "base_uri": "https://localhost:8080/",
          "height": 298
        },
        "outputId": "9499cacd-25d4-4e37-b811-c112eaa06cc4"
      },
      "source": [
        "#getting the labels for the plots\n",
        "plt.ylabel('proportion of jobs')\n",
        "plt.title('job')"
      ],
      "execution_count": 10,
      "outputs": [
        {
          "output_type": "execute_result",
          "data": {
            "text/plain": [
              "Text(0.5, 1.0, 'job')"
            ]
          },
          "metadata": {
            "tags": []
          },
          "execution_count": 10
        },
        {
          "output_type": "display_data",
          "data": {
            "image/png": "[encoded data removed]",
            "text/plain": [
              "<Figure size 432x288 with 1 Axes>"
            ]
          },
          "metadata": {
            "tags": [],
            "needs_background": "light"
          }
        }
      ]
    },
    {
      "cell_type": "code",
      "metadata": {
        "id": "FUjxEBUBmxrq",
        "colab_type": "code",
        "colab": {
          "base_uri": "https://localhost:8080/",
          "height": 464
        },
        "outputId": "529d1a75-b13b-424a-f4e0-25e858e06aac"
      },
      "source": [
        "# Defining the x label indexes and y label indexes\n",
        "plt.xticks(ind, jobList)\n",
        "plt.yticks(np.arange(0, 100, 10))"
      ],
      "execution_count": 11,
      "outputs": [
        {
          "output_type": "execute_result",
          "data": {
            "text/plain": [
              "([<matplotlib.axis.YTick at 0x7fb872fd2278>,\n",
              "  <matplotlib.axis.YTick at 0x7fb872fd0c18>,\n",
              "  <matplotlib.axis.YTick at 0x7fb873028ef0>,\n",
              "  <matplotlib.axis.YTick at 0x7fb872ff1470>,\n",
              "  <matplotlib.axis.YTick at 0x7fb872ff1940>,\n",
              "  <matplotlib.axis.YTick at 0x7fb872ff1dd8>,\n",
              "  <matplotlib.axis.YTick at 0x7fb872ff82b0>,\n",
              "  <matplotlib.axis.YTick at 0x7fb872ff8748>,\n",
              "  <matplotlib.axis.YTick at 0x7fb872ff8be0>,\n",
              "  <matplotlib.axis.YTick at 0x7fb872ff1a20>],\n",
              " <a list of 10 Text major ticklabel objects>)"
            ]
          },
          "metadata": {
            "tags": []
          },
          "execution_count": 11
        },
        {
          "output_type": "display_data",
          "data": {
            "image/png": "[encoded data removed]",
            "text/plain": [
              "<Figure size 432x288 with 1 Axes>"
            ]
          },
          "metadata": {
            "tags": [],
            "needs_background": "light"
          }
        }
      ]
    },
    {
      "cell_type": "code",
      "metadata": {
        "id": "MxYGhrxTm6EV",
        "colab_type": "code",
        "colab": {
          "base_uri": "https://localhost:8080/",
          "height": 274
        },
        "outputId": "b1dc5eb0-9ada-448f-9e9d-60a22d7d7b5b"
      },
      "source": [
        "# Defining the legends\n",
        "plt.legend((p1[0], p2[0]), ('Yes', 'No'))\n",
        "# To rotate the axis labels\n",
        "plt.xticks(rotation=90)\n",
        "plt.show()"
      ],
      "execution_count": 12,
      "outputs": [
        {
          "output_type": "display_data",
          "data": {
            "image/png": "[encoded data removed]",
            "text/plain": [
              "<Figure size 432x288 with 1 Axes>"
            ]
          },
          "metadata": {
            "tags": [],
            "needs_background": "light"
          }
        }
      ]
    },
    {
      "cell_type": "code",
      "metadata": {
        "id": "lNqE6TBdnAfE",
        "colab_type": "code",
        "colab": {}
      },
      "source": [
        ""
      ],
      "execution_count": 0,
      "outputs": []
    }
  ]
}