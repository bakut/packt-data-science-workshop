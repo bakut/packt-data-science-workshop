{
  "nbformat": 4,
  "nbformat_minor": 0,
  "metadata": {
    "colab": {
      "name": "The Statsmodels formula API.ipynb",
      "provenance": [],
      "authorship_tag": "ABX9TyOEGzoRLgBPGwE2SLl5jMmT",
      "include_colab_link": true
    },
    "kernelspec": {
      "name": "python3",
      "display_name": "Python 3"
    }
  },
  "cells": [
    {
      "cell_type": "markdown",
      "metadata": {
        "id": "view-in-github",
        "colab_type": "text"
      },
      "source": [
        "<a href=\"https://colab.research.google.com/github/bakut/packt-data-science-workshop/blob/master/The_Statsmodels_formula_API.ipynb\" target=\"_parent\"><img src=\"https://colab.research.google.com/assets/colab-badge.svg\" alt=\"Open In Colab\"/></a>"
      ]
    },
    {
      "cell_type": "markdown",
      "metadata": {
        "id": "T8BhTCbBlJgA",
        "colab_type": "text"
      },
      "source": [
        "**The Statsmodels formula API**\n",
        "A simple linear regression model where the crime rate per capita is the dependent variable and the median value of owner-occupied homes is the independent variable. We use the statsmodels formula API to create a linear regression model for Python to analyze."
      ]
    },
    {
      "cell_type": "code",
      "metadata": {
        "id": "AJcTh7zXk98J",
        "colab_type": "code",
        "colab": {
          "base_uri": "https://localhost:8080/",
          "height": 72
        },
        "outputId": "0414e18a-7030-4853-ba35-d0e84025838c"
      },
      "source": [
        "#importing required packages\n",
        "import pandas as pd\n",
        "import statsmodels.formula.api as smf\n",
        "from sklearn.model_selection import train_test_split"
      ],
      "execution_count": 1,
      "outputs": [
        {
          "output_type": "stream",
          "text": [
            "/usr/local/lib/python3.6/dist-packages/statsmodels/tools/_testing.py:19: FutureWarning: pandas.util.testing is deprecated. Use the functions in the public API at pandas.testing instead.\n",
            "  import pandas.util.testing as tm\n"
          ],
          "name": "stderr"
        }
      ]
    },
    {
      "cell_type": "code",
      "metadata": {
        "id": "drdv-Aeelruq",
        "colab_type": "code",
        "colab": {}
      },
      "source": [
        "#load dataset\n",
        "rawBostondata = pd.read_csv('https://raw.githubusercontent.com/PacktWorkshops/The-Data-Science-Workshop/master/Chapter02/Dataset/Boston.csv')"
      ],
      "execution_count": 0,
      "outputs": []
    },
    {
      "cell_type": "code",
      "metadata": {
        "id": "bUy52YhmmEif",
        "colab_type": "code",
        "colab": {
          "base_uri": "https://localhost:8080/",
          "height": 217
        },
        "outputId": "0403a2b0-19e8-4a8a-cde1-7d0543ccf01a"
      },
      "source": [
        "#view dataset\n",
        "rawBostondata.head()"
      ],
      "execution_count": 3,
      "outputs": [
        {
          "output_type": "execute_result",
          "data": {
            "text/html": [
              "<div>\n",
              "<style scoped>\n",
              "    .dataframe tbody tr th:only-of-type {\n",
              "        vertical-align: middle;\n",
              "    }\n",
              "\n",
              "    .dataframe tbody tr th {\n",
              "        vertical-align: top;\n",
              "    }\n",
              "\n",
              "    .dataframe thead th {\n",
              "        text-align: right;\n",
              "    }\n",
              "</style>\n",
              "<table border=\"1\" class=\"dataframe\">\n",
              "  <thead>\n",
              "    <tr style=\"text-align: right;\">\n",
              "      <th></th>\n",
              "      <th>CRIM</th>\n",
              "      <th>ZN</th>\n",
              "      <th>INDUS</th>\n",
              "      <th>CHAS</th>\n",
              "      <th>NOX</th>\n",
              "      <th>RM</th>\n",
              "      <th>AGE</th>\n",
              "      <th>DIS</th>\n",
              "      <th>RAD</th>\n",
              "      <th>TAX</th>\n",
              "      <th>PTRATIO</th>\n",
              "      <th>LSTAT</th>\n",
              "      <th>MEDV</th>\n",
              "    </tr>\n",
              "  </thead>\n",
              "  <tbody>\n",
              "    <tr>\n",
              "      <th>0</th>\n",
              "      <td>0.00632</td>\n",
              "      <td>18.0</td>\n",
              "      <td>2.31</td>\n",
              "      <td>0</td>\n",
              "      <td>0.538</td>\n",
              "      <td>6.575</td>\n",
              "      <td>65.2</td>\n",
              "      <td>4.0900</td>\n",
              "      <td>1</td>\n",
              "      <td>296</td>\n",
              "      <td>15.3</td>\n",
              "      <td>4.98</td>\n",
              "      <td>24.0</td>\n",
              "    </tr>\n",
              "    <tr>\n",
              "      <th>1</th>\n",
              "      <td>0.02731</td>\n",
              "      <td>0.0</td>\n",
              "      <td>7.07</td>\n",
              "      <td>0</td>\n",
              "      <td>0.469</td>\n",
              "      <td>6.421</td>\n",
              "      <td>78.9</td>\n",
              "      <td>4.9671</td>\n",
              "      <td>2</td>\n",
              "      <td>242</td>\n",
              "      <td>17.8</td>\n",
              "      <td>9.14</td>\n",
              "      <td>21.6</td>\n",
              "    </tr>\n",
              "    <tr>\n",
              "      <th>2</th>\n",
              "      <td>0.02729</td>\n",
              "      <td>0.0</td>\n",
              "      <td>7.07</td>\n",
              "      <td>0</td>\n",
              "      <td>0.469</td>\n",
              "      <td>7.185</td>\n",
              "      <td>61.1</td>\n",
              "      <td>4.9671</td>\n",
              "      <td>2</td>\n",
              "      <td>242</td>\n",
              "      <td>17.8</td>\n",
              "      <td>4.03</td>\n",
              "      <td>34.7</td>\n",
              "    </tr>\n",
              "    <tr>\n",
              "      <th>3</th>\n",
              "      <td>0.03237</td>\n",
              "      <td>0.0</td>\n",
              "      <td>2.18</td>\n",
              "      <td>0</td>\n",
              "      <td>0.458</td>\n",
              "      <td>6.998</td>\n",
              "      <td>45.8</td>\n",
              "      <td>6.0622</td>\n",
              "      <td>3</td>\n",
              "      <td>222</td>\n",
              "      <td>18.7</td>\n",
              "      <td>2.94</td>\n",
              "      <td>33.4</td>\n",
              "    </tr>\n",
              "    <tr>\n",
              "      <th>4</th>\n",
              "      <td>0.06905</td>\n",
              "      <td>0.0</td>\n",
              "      <td>2.18</td>\n",
              "      <td>0</td>\n",
              "      <td>0.458</td>\n",
              "      <td>7.147</td>\n",
              "      <td>54.2</td>\n",
              "      <td>6.0622</td>\n",
              "      <td>3</td>\n",
              "      <td>222</td>\n",
              "      <td>18.7</td>\n",
              "      <td>5.33</td>\n",
              "      <td>36.2</td>\n",
              "    </tr>\n",
              "  </tbody>\n",
              "</table>\n",
              "</div>"
            ],
            "text/plain": [
              "      CRIM   ZN   INDUS   CHAS    NOX  ...  RAD  TAX  PTRATIO  LSTAT  MEDV\n",
              "0  0.00632  18.0    2.31     0  0.538  ...    1  296     15.3   4.98  24.0\n",
              "1  0.02731   0.0    7.07     0  0.469  ...    2  242     17.8   9.14  21.6\n",
              "2  0.02729   0.0    7.07     0  0.469  ...    2  242     17.8   4.03  34.7\n",
              "3  0.03237   0.0    2.18     0  0.458  ...    3  222     18.7   2.94  33.4\n",
              "4  0.06905   0.0    2.18     0  0.458  ...    3  222     18.7   5.33  36.2\n",
              "\n",
              "[5 rows x 13 columns]"
            ]
          },
          "metadata": {
            "tags": []
          },
          "execution_count": 3
        }
      ]
    },
    {
      "cell_type": "code",
      "metadata": {
        "id": "FYpi2s4mmHLk",
        "colab_type": "code",
        "colab": {
          "base_uri": "https://localhost:8080/",
          "height": 247
        },
        "outputId": "d7701028-0abc-4516-98e8-a25197a17a89"
      },
      "source": [
        "#list of columns in dataset for examination and possible modifications\n",
        "list(rawBostondata.columns)"
      ],
      "execution_count": 4,
      "outputs": [
        {
          "output_type": "execute_result",
          "data": {
            "text/plain": [
              "['CRIM',\n",
              " ' ZN ',\n",
              " 'INDUS ',\n",
              " 'CHAS',\n",
              " 'NOX',\n",
              " 'RM',\n",
              " 'AGE',\n",
              " 'DIS',\n",
              " 'RAD',\n",
              " 'TAX',\n",
              " 'PTRATIO',\n",
              " 'LSTAT',\n",
              " 'MEDV']"
            ]
          },
          "metadata": {
            "tags": []
          },
          "execution_count": 4
        }
      ]
    },
    {
      "cell_type": "code",
      "metadata": {
        "id": "Cb6VAyV6mKLv",
        "colab_type": "code",
        "colab": {}
      },
      "source": [
        "#renaming dataframe columns and mindful of white spaces and text structure.\n",
        "renamedBostonData = rawBostondata.rename(columns = {'CRIM':'crimeRatePerCapita', \n",
        " ' ZN ':'landOver25K_sqft', \n",
        " 'INDUS ':'non-retailLandProptn', \n",
        " 'CHAS':'riverDummy', \n",
        " 'NOX':'nitrixOxide_pp10m', \n",
        " 'RM':'AvgNo.RoomsPerDwelling', \n",
        " 'AGE':'ProptnOwnerOccupied', \n",
        " 'DIS':'weightedDist', \n",
        " 'RAD':'radialHighwaysAccess', \n",
        " 'TAX':'propTaxRate_per10K', \n",
        " 'PTRATIO':'pupilTeacherRatio', \n",
        " 'LSTAT':'pctLowerStatus', \n",
        " 'MEDV':'medianValue_Ks'})"
      ],
      "execution_count": 0,
      "outputs": []
    },
    {
      "cell_type": "code",
      "metadata": {
        "id": "DMhubKyUmM6z",
        "colab_type": "code",
        "colab": {
          "base_uri": "https://localhost:8080/",
          "height": 234
        },
        "outputId": "6c44cf03-d210-41dd-9d83-0e3881a53f16"
      },
      "source": [
        "renamedBostonData.head()"
      ],
      "execution_count": 6,
      "outputs": [
        {
          "output_type": "execute_result",
          "data": {
            "text/html": [
              "<div>\n",
              "<style scoped>\n",
              "    .dataframe tbody tr th:only-of-type {\n",
              "        vertical-align: middle;\n",
              "    }\n",
              "\n",
              "    .dataframe tbody tr th {\n",
              "        vertical-align: top;\n",
              "    }\n",
              "\n",
              "    .dataframe thead th {\n",
              "        text-align: right;\n",
              "    }\n",
              "</style>\n",
              "<table border=\"1\" class=\"dataframe\">\n",
              "  <thead>\n",
              "    <tr style=\"text-align: right;\">\n",
              "      <th></th>\n",
              "      <th>crimeRatePerCapita</th>\n",
              "      <th>landOver25K_sqft</th>\n",
              "      <th>non-retailLandProptn</th>\n",
              "      <th>riverDummy</th>\n",
              "      <th>nitrixOxide_pp10m</th>\n",
              "      <th>AvgNo.RoomsPerDwelling</th>\n",
              "      <th>ProptnOwnerOccupied</th>\n",
              "      <th>weightedDist</th>\n",
              "      <th>radialHighwaysAccess</th>\n",
              "      <th>propTaxRate_per10K</th>\n",
              "      <th>pupilTeacherRatio</th>\n",
              "      <th>pctLowerStatus</th>\n",
              "      <th>medianValue_Ks</th>\n",
              "    </tr>\n",
              "  </thead>\n",
              "  <tbody>\n",
              "    <tr>\n",
              "      <th>0</th>\n",
              "      <td>0.00632</td>\n",
              "      <td>18.0</td>\n",
              "      <td>2.31</td>\n",
              "      <td>0</td>\n",
              "      <td>0.538</td>\n",
              "      <td>6.575</td>\n",
              "      <td>65.2</td>\n",
              "      <td>4.0900</td>\n",
              "      <td>1</td>\n",
              "      <td>296</td>\n",
              "      <td>15.3</td>\n",
              "      <td>4.98</td>\n",
              "      <td>24.0</td>\n",
              "    </tr>\n",
              "    <tr>\n",
              "      <th>1</th>\n",
              "      <td>0.02731</td>\n",
              "      <td>0.0</td>\n",
              "      <td>7.07</td>\n",
              "      <td>0</td>\n",
              "      <td>0.469</td>\n",
              "      <td>6.421</td>\n",
              "      <td>78.9</td>\n",
              "      <td>4.9671</td>\n",
              "      <td>2</td>\n",
              "      <td>242</td>\n",
              "      <td>17.8</td>\n",
              "      <td>9.14</td>\n",
              "      <td>21.6</td>\n",
              "    </tr>\n",
              "    <tr>\n",
              "      <th>2</th>\n",
              "      <td>0.02729</td>\n",
              "      <td>0.0</td>\n",
              "      <td>7.07</td>\n",
              "      <td>0</td>\n",
              "      <td>0.469</td>\n",
              "      <td>7.185</td>\n",
              "      <td>61.1</td>\n",
              "      <td>4.9671</td>\n",
              "      <td>2</td>\n",
              "      <td>242</td>\n",
              "      <td>17.8</td>\n",
              "      <td>4.03</td>\n",
              "      <td>34.7</td>\n",
              "    </tr>\n",
              "    <tr>\n",
              "      <th>3</th>\n",
              "      <td>0.03237</td>\n",
              "      <td>0.0</td>\n",
              "      <td>2.18</td>\n",
              "      <td>0</td>\n",
              "      <td>0.458</td>\n",
              "      <td>6.998</td>\n",
              "      <td>45.8</td>\n",
              "      <td>6.0622</td>\n",
              "      <td>3</td>\n",
              "      <td>222</td>\n",
              "      <td>18.7</td>\n",
              "      <td>2.94</td>\n",
              "      <td>33.4</td>\n",
              "    </tr>\n",
              "    <tr>\n",
              "      <th>4</th>\n",
              "      <td>0.06905</td>\n",
              "      <td>0.0</td>\n",
              "      <td>2.18</td>\n",
              "      <td>0</td>\n",
              "      <td>0.458</td>\n",
              "      <td>7.147</td>\n",
              "      <td>54.2</td>\n",
              "      <td>6.0622</td>\n",
              "      <td>3</td>\n",
              "      <td>222</td>\n",
              "      <td>18.7</td>\n",
              "      <td>5.33</td>\n",
              "      <td>36.2</td>\n",
              "    </tr>\n",
              "  </tbody>\n",
              "</table>\n",
              "</div>"
            ],
            "text/plain": [
              "   crimeRatePerCapita  landOver25K_sqft  ...  pctLowerStatus  medianValue_Ks\n",
              "0             0.00632              18.0  ...            4.98            24.0\n",
              "1             0.02731               0.0  ...            9.14            21.6\n",
              "2             0.02729               0.0  ...            4.03            34.7\n",
              "3             0.03237               0.0  ...            2.94            33.4\n",
              "4             0.06905               0.0  ...            5.33            36.2\n",
              "\n",
              "[5 rows x 13 columns]"
            ]
          },
          "metadata": {
            "tags": []
          },
          "execution_count": 6
        }
      ]
    },
    {
      "cell_type": "code",
      "metadata": {
        "id": "tQBiBGKYmPtr",
        "colab_type": "code",
        "colab": {
          "base_uri": "https://localhost:8080/",
          "height": 372
        },
        "outputId": "a205cf04-bcd5-4b28-f03c-0ad0f042b8ba"
      },
      "source": [
        "#inspecting the data types of columns using the .info() function:\n",
        "renamedBostonData.info()"
      ],
      "execution_count": 7,
      "outputs": [
        {
          "output_type": "stream",
          "text": [
            "<class 'pandas.core.frame.DataFrame'>\n",
            "RangeIndex: 506 entries, 0 to 505\n",
            "Data columns (total 13 columns):\n",
            " #   Column                  Non-Null Count  Dtype  \n",
            "---  ------                  --------------  -----  \n",
            " 0   crimeRatePerCapita      506 non-null    float64\n",
            " 1   landOver25K_sqft        506 non-null    float64\n",
            " 2   non-retailLandProptn    506 non-null    float64\n",
            " 3   riverDummy              506 non-null    int64  \n",
            " 4   nitrixOxide_pp10m       506 non-null    float64\n",
            " 5   AvgNo.RoomsPerDwelling  506 non-null    float64\n",
            " 6   ProptnOwnerOccupied     506 non-null    float64\n",
            " 7   weightedDist            506 non-null    float64\n",
            " 8   radialHighwaysAccess    506 non-null    int64  \n",
            " 9   propTaxRate_per10K      506 non-null    int64  \n",
            " 10  pupilTeacherRatio       506 non-null    float64\n",
            " 11  pctLowerStatus          506 non-null    float64\n",
            " 12  medianValue_Ks          506 non-null    float64\n",
            "dtypes: float64(10), int64(3)\n",
            "memory usage: 51.5 KB\n"
          ],
          "name": "stdout"
        }
      ]
    },
    {
      "cell_type": "code",
      "metadata": {
        "id": "J6z9BZpLmSJm",
        "colab_type": "code",
        "colab": {}
      },
      "source": [
        "#divide the dataframe into traing and test sets:\n",
        "X = renamedBostonData.drop('crimeRatePerCapita', axis = 1)\n",
        "y = renamedBostonData[['crimeRatePerCapita']]\n",
        "seed = 10\n",
        "test_data_size = 0.3\n",
        "X_train, X_test, y_train, y_test = train_test_split(X, y, test_size = test_data_size, random_state = seed)\n",
        "train_data = pd.concat([X_train, y_train], axis = 1)\n",
        "test_data = pd.concat([X_test, y_test], axis = 1)"
      ],
      "execution_count": 0,
      "outputs": []
    },
    {
      "cell_type": "markdown",
      "metadata": {
        "id": "a7YIt3TAmacF",
        "colab_type": "text"
      },
      "source": [
        "* Choose a test data size\n",
        "* The train_test_split function is used to achieve this\n",
        "*  Seed; A random number generator so that we can obtain a reproducible split each time we run the code, an arbitrary value\n",
        "* A good model-building practice to divide a dataset being used to dvelop a model into two parts, one part to used to develop the model and it is called a traing set (X_train and y_train combined)."
      ]
    },
    {
      "cell_type": "code",
      "metadata": {
        "id": "9CLhG1uFmX-3",
        "colab_type": "code",
        "colab": {}
      },
      "source": [
        "#define a linear regression model and assign it to a varaible named linearmodel\n",
        "linearModel = smf.ols(formula='crimeRatePerCapita ~ medianValue_Ks',\\\n",
        "                      data=train_data)\n"
      ],
      "execution_count": 0,
      "outputs": []
    },
    {
      "cell_type": "markdown",
      "metadata": {
        "id": "ic72-0Tantiy",
        "colab_type": "text"
      },
      "source": [
        "ols function of the statsmodels API and set its formula argument by defining a patsy formula string that uses the tilde(~) symbol to relate the dependent variable to the independent variable. Tell the function where to find the variables named, in the string, by assigning the data argument of the ols function to the DataFrame that contains your variables (train_data) "
      ]
    },
    {
      "cell_type": "code",
      "metadata": {
        "id": "2UpUCGnUnfzt",
        "colab_type": "code",
        "colab": {}
      },
      "source": [
        "#call the fit method of the model instance and assign the result of the method to linearModelResult variable\n",
        "linearModelResult = linearModel.fit()"
      ],
      "execution_count": 0,
      "outputs": []
    },
    {
      "cell_type": "code",
      "metadata": {
        "id": "MdIJkFkBo3V6",
        "colab_type": "code",
        "colab": {
          "base_uri": "https://localhost:8080/",
          "height": 481
        },
        "outputId": "8340e3d6-8639-454d-85f4-6b86b2c2d3a3"
      },
      "source": [
        "#print summary of the result stored the linearModelResult variable by running the following code:\n",
        "print(linearModelResult.summary())"
      ],
      "execution_count": 13,
      "outputs": [
        {
          "output_type": "stream",
          "text": [
            "                            OLS Regression Results                            \n",
            "==============================================================================\n",
            "Dep. Variable:     crimeRatePerCapita   R-squared:                       0.144\n",
            "Model:                            OLS   Adj. R-squared:                  0.141\n",
            "Method:                 Least Squares   F-statistic:                     59.02\n",
            "Date:                Fri, 17 Apr 2020   Prob (F-statistic):           1.56e-13\n",
            "Time:                        19:37:21   Log-Likelihood:                -1217.4\n",
            "No. Observations:                 354   AIC:                             2439.\n",
            "Df Residuals:                     352   BIC:                             2447.\n",
            "Df Model:                           1                                         \n",
            "Covariance Type:            nonrobust                                         \n",
            "==================================================================================\n",
            "                     coef    std err          t      P>|t|      [0.025      0.975]\n",
            "----------------------------------------------------------------------------------\n",
            "Intercept         11.2094      1.079     10.386      0.000       9.087      13.332\n",
            "medianValue_Ks    -0.3502      0.046     -7.683      0.000      -0.440      -0.261\n",
            "==============================================================================\n",
            "Omnibus:                      447.354   Durbin-Watson:                   1.928\n",
            "Prob(Omnibus):                  0.000   Jarque-Bera (JB):            39791.431\n",
            "Skew:                           5.897   Prob(JB):                         0.00\n",
            "Kurtosis:                      53.583   Cond. No.                         63.7\n",
            "==============================================================================\n",
            "\n",
            "Warnings:\n",
            "[1] Standard Errors assume that the covariance matrix of the errors is correctly specified.\n"
          ],
          "name": "stdout"
        }
      ]
    },
    {
      "cell_type": "markdown",
      "metadata": {
        "id": "m5f1RaRSpfNR",
        "colab_type": "text"
      },
      "source": [
        " What fitting here means is to estimate the regression coefficients (parameters) using the ordinary least squares method."
      ]
    },
    {
      "cell_type": "code",
      "metadata": {
        "id": "IL065XGSpTsf",
        "colab_type": "code",
        "colab": {}
      },
      "source": [
        ""
      ],
      "execution_count": 0,
      "outputs": []
    }
  ]
}