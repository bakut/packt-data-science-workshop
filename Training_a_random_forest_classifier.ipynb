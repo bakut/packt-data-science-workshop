{
  "nbformat": 4,
  "nbformat_minor": 0,
  "metadata": {
    "colab": {
      "name": "Training a random forest classifier.ipynb",
      "provenance": [],
      "authorship_tag": "ABX9TyNjrEv1xVLAaNylFKOT7XTs",
      "include_colab_link": true
    },
    "kernelspec": {
      "name": "python3",
      "display_name": "Python 3"
    }
  },
  "cells": [
    {
      "cell_type": "markdown",
      "metadata": {
        "id": "view-in-github",
        "colab_type": "text"
      },
      "source": [
        "<a href=\"https://colab.research.google.com/github/bakut/packt-data-science-workshop/blob/master/Training_a_random_forest_classifier.ipynb\" target=\"_parent\"><img src=\"https://colab.research.google.com/assets/colab-badge.svg\" alt=\"Open In Colab\"/></a>"
      ]
    },
    {
      "cell_type": "markdown",
      "metadata": {
        "id": "Ha7nQb90oENP",
        "colab_type": "text"
      },
      "source": [
        "**Training a Random Forest Classifier**"
      ]
    },
    {
      "cell_type": "code",
      "metadata": {
        "id": "2uDtunAZ8FOc",
        "colab_type": "code",
        "colab": {}
      },
      "source": [
        "#importing libraries\n",
        "import pandas as pd"
      ],
      "execution_count": 0,
      "outputs": []
    },
    {
      "cell_type": "code",
      "metadata": {
        "id": "QBAbRxP_pvUy",
        "colab_type": "code",
        "colab": {
          "base_uri": "https://localhost:8080/",
          "height": 197
        },
        "outputId": "3feb5a32-9a0a-4d39-99c4-95d37ac6615c"
      },
      "source": [
        "file_url= 'https://raw.githubusercontent.com/PacktWorkshops/The-Data-Science-Workshop/master/Chapter04/Dataset/activity.csv'\n",
        "df = pd.read_csv(file_url)\n",
        "df.head()"
      ],
      "execution_count": 3,
      "outputs": [
        {
          "output_type": "execute_result",
          "data": {
            "text/html": [
              "<div>\n",
              "<style scoped>\n",
              "    .dataframe tbody tr th:only-of-type {\n",
              "        vertical-align: middle;\n",
              "    }\n",
              "\n",
              "    .dataframe tbody tr th {\n",
              "        vertical-align: top;\n",
              "    }\n",
              "\n",
              "    .dataframe thead th {\n",
              "        text-align: right;\n",
              "    }\n",
              "</style>\n",
              "<table border=\"1\" class=\"dataframe\">\n",
              "  <thead>\n",
              "    <tr style=\"text-align: right;\">\n",
              "      <th></th>\n",
              "      <th>avg_rss12</th>\n",
              "      <th>var_rss12</th>\n",
              "      <th>avg_rss13</th>\n",
              "      <th>var_rss13</th>\n",
              "      <th>avg_rss23</th>\n",
              "      <th>var_rss23</th>\n",
              "      <th>Activity</th>\n",
              "    </tr>\n",
              "  </thead>\n",
              "  <tbody>\n",
              "    <tr>\n",
              "      <th>0</th>\n",
              "      <td>42.00</td>\n",
              "      <td>0.00</td>\n",
              "      <td>18.50</td>\n",
              "      <td>0.50</td>\n",
              "      <td>12.00</td>\n",
              "      <td>0.00</td>\n",
              "      <td>bending1</td>\n",
              "    </tr>\n",
              "    <tr>\n",
              "      <th>1</th>\n",
              "      <td>42.00</td>\n",
              "      <td>0.00</td>\n",
              "      <td>18.00</td>\n",
              "      <td>0.00</td>\n",
              "      <td>11.33</td>\n",
              "      <td>0.94</td>\n",
              "      <td>bending1</td>\n",
              "    </tr>\n",
              "    <tr>\n",
              "      <th>2</th>\n",
              "      <td>42.75</td>\n",
              "      <td>0.43</td>\n",
              "      <td>16.75</td>\n",
              "      <td>1.79</td>\n",
              "      <td>18.25</td>\n",
              "      <td>0.43</td>\n",
              "      <td>bending1</td>\n",
              "    </tr>\n",
              "    <tr>\n",
              "      <th>3</th>\n",
              "      <td>42.50</td>\n",
              "      <td>0.50</td>\n",
              "      <td>16.75</td>\n",
              "      <td>0.83</td>\n",
              "      <td>19.00</td>\n",
              "      <td>1.22</td>\n",
              "      <td>bending1</td>\n",
              "    </tr>\n",
              "    <tr>\n",
              "      <th>4</th>\n",
              "      <td>43.00</td>\n",
              "      <td>0.82</td>\n",
              "      <td>16.25</td>\n",
              "      <td>0.83</td>\n",
              "      <td>18.00</td>\n",
              "      <td>0.00</td>\n",
              "      <td>bending1</td>\n",
              "    </tr>\n",
              "  </tbody>\n",
              "</table>\n",
              "</div>"
            ],
            "text/plain": [
              "   avg_rss12  var_rss12  avg_rss13  var_rss13  avg_rss23  var_rss23  Activity\n",
              "0      42.00       0.00      18.50       0.50      12.00       0.00  bending1\n",
              "1      42.00       0.00      18.00       0.00      11.33       0.94  bending1\n",
              "2      42.75       0.43      16.75       1.79      18.25       0.43  bending1\n",
              "3      42.50       0.50      16.75       0.83      19.00       1.22  bending1\n",
              "4      43.00       0.82      16.25       0.83      18.00       0.00  bending1"
            ]
          },
          "metadata": {
            "tags": []
          },
          "execution_count": 3
        }
      ]
    },
    {
      "cell_type": "markdown",
      "metadata": {
        "id": "4LRx5Qerrol0",
        "colab_type": "text"
      },
      "source": [
        "In this example, accurately predict the target variable ('Activity') from the features (the six other columns) using Random Forest. For example, for the first row of the example above, the model will receive the following features as input and will predict the 'bending1' class:"
      ]
    },
    {
      "cell_type": "markdown",
      "metadata": {
        "id": "BX3VkPGpvLWw",
        "colab_type": "text"
      },
      "source": [
        "But before that, we need to do a bit of data preparation. The sklearn package (we will use it to train Random Forest model) requires the target variable and the features to be separated. So, we need to extract the response variable using the .pop() method from pandas. The .pop() method extracts the specified column and removes it from the DataFrame:\n"
      ]
    },
    {
      "cell_type": "code",
      "metadata": {
        "id": "1WvDbTvzqDXB",
        "colab_type": "code",
        "colab": {}
      },
      "source": [
        "#use of .pop() method to extract specified column\n",
        "target = df.pop('Activity')"
      ],
      "execution_count": 0,
      "outputs": []
    },
    {
      "cell_type": "markdown",
      "metadata": {
        "id": "5FKz9y-20r-6",
        "colab_type": "text"
      },
      "source": [
        "Now the response variable is contained in the variable called target and all the features are in the DataFrame called df."
      ]
    },
    {
      "cell_type": "markdown",
      "metadata": {
        "id": "3O_SYjka-v1B",
        "colab_type": "text"
      },
      "source": [
        "The sklearn package provides a function called train_test_split() to randomly split the dataset into two different sets. We need to specify the following parameters for this function: the feature and target variables, the ratio of the testing set (test_size), and random_state in order to get reproducible results if we have to run the code again:"
      ]
    },
    {
      "cell_type": "code",
      "metadata": {
        "id": "hi7SekN5vXYq",
        "colab_type": "code",
        "colab": {}
      },
      "source": [
        "#importing sklearn, training and testing\n",
        "from sklearn.model_selection import train_test_split\n",
        "X_train, X_test, y_train, y_test = train_test_split(df, target, test_size=0.33, random_state=42)\n"
      ],
      "execution_count": 0,
      "outputs": []
    },
    {
      "cell_type": "markdown",
      "metadata": {
        "id": "Gg13c-wIAe75",
        "colab_type": "text"
      },
      "source": [
        "There are four different outputs to the train_test_split() function: the features for the training set, the target variable for the training set, the features for the testing set, and its target variable.\n",
        "\n",
        "Now that we have got our training and testing sets, we are ready for modeling. Let's first import the RandomForestClassifier class from sklearn.ensemble:"
      ]
    },
    {
      "cell_type": "code",
      "metadata": {
        "id": "82QFdHsG--t8",
        "colab_type": "code",
        "colab": {}
      },
      "source": [
        "#importing RandomForestClassifier from sklearn.ensemble\n",
        "from sklearn.ensemble import RandomForestClassifier\n",
        "rf_model = RandomForestClassifier(random_state=1)"
      ],
      "execution_count": 0,
      "outputs": []
    },
    {
      "cell_type": "code",
      "metadata": {
        "id": "VtrJjdw-AuoQ",
        "colab_type": "code",
        "colab": {
          "base_uri": "https://localhost:8080/",
          "height": 158
        },
        "outputId": "4d9991e9-da86-424f-c88f-b98e4ae7e865"
      },
      "source": [
        "#train/fit the model with the training data\n",
        "rf_model.fit(X_train, y_train)"
      ],
      "execution_count": 10,
      "outputs": [
        {
          "output_type": "execute_result",
          "data": {
            "text/plain": [
              "RandomForestClassifier(bootstrap=True, ccp_alpha=0.0, class_weight=None,\n",
              "                       criterion='gini', max_depth=None, max_features='auto',\n",
              "                       max_leaf_nodes=None, max_samples=None,\n",
              "                       min_impurity_decrease=0.0, min_impurity_split=None,\n",
              "                       min_samples_leaf=1, min_samples_split=2,\n",
              "                       min_weight_fraction_leaf=0.0, n_estimators=100,\n",
              "                       n_jobs=None, oob_score=False, random_state=1, verbose=0,\n",
              "                       warm_start=False)"
            ]
          },
          "metadata": {
            "tags": []
          },
          "execution_count": 10
        }
      ]
    },
    {
      "cell_type": "code",
      "metadata": {
        "id": "zbPctyvEBzb_",
        "colab_type": "code",
        "colab": {}
      },
      "source": [
        "#after training , you can use the parameters learned to make prediction on the inout data provided\n",
        "preds = rf_model.predict(X_train)"
      ],
      "execution_count": 0,
      "outputs": []
    },
    {
      "cell_type": "code",
      "metadata": {
        "id": "neYvZgJ5DCcU",
        "colab_type": "code",
        "colab": {
          "base_uri": "https://localhost:8080/",
          "height": 52
        },
        "outputId": "ea3e2859-3658-452e-f296-60b852a33e25"
      },
      "source": [
        "preds"
      ],
      "execution_count": 12,
      "outputs": [
        {
          "output_type": "execute_result",
          "data": {
            "text/plain": [
              "array(['lying', 'bending1', 'cycling', ..., 'cycling', 'bending1',\n",
              "       'standing'], dtype=object)"
            ]
          },
          "metadata": {
            "tags": []
          },
          "execution_count": 12
        }
      ]
    },
    {
      "cell_type": "markdown",
      "metadata": {
        "id": "cqampanOFvl2",
        "colab_type": "text"
      },
      "source": [
        "This output shows us the model predicted, respectively, the values lying, bending1, and cycling for the first three observations and cycling, bending1, and standing for the last three observations. Python, by default, truncates the output for a long list of values. This is why it shows only six values here.\n",
        "\n",
        "These are basically the key steps required for training a Random Forest classifier. This was quite straightforward, right? Training a machine learning model is incredibly easy but getting meaningful and accurate results is where the challenges lie."
      ]
    },
    {
      "cell_type": "code",
      "metadata": {
        "id": "W5iRTioZDy1I",
        "colab_type": "code",
        "colab": {}
      },
      "source": [
        ""
      ],
      "execution_count": 0,
      "outputs": []
    }
  ]
}