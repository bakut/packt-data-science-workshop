{
  "nbformat": 4,
  "nbformat_minor": 0,
  "metadata": {
    "colab": {
      "name": "Tuning n_estimators to Reduce Overfitting.ipynb",
      "provenance": [],
      "authorship_tag": "ABX9TyO4Bw5gvWa6Digx4v/5k6KM",
      "include_colab_link": true
    },
    "kernelspec": {
      "name": "python3",
      "display_name": "Python 3"
    }
  },
  "cells": [
    {
      "cell_type": "markdown",
      "metadata": {
        "id": "view-in-github",
        "colab_type": "text"
      },
      "source": [
        "<a href=\"https://colab.research.google.com/github/bakut/packt-data-science-workshop/blob/master/Tuning_n_estimators_to_Reduce_Overfitting.ipynb\" target=\"_parent\"><img src=\"https://colab.research.google.com/assets/colab-badge.svg\" alt=\"Open In Colab\"/></a>"
      ]
    },
    {
      "cell_type": "markdown",
      "metadata": {
        "id": "L0fdR5KueGKf",
        "colab_type": "text"
      },
      "source": [
        "**Tuning n_estimators to Reduce Overfitting**"
      ]
    },
    {
      "cell_type": "markdown",
      "metadata": {
        "id": "ytgWeEaceOak",
        "colab_type": "text"
      },
      "source": [
        "Train a Random Forest classifier to predict the type of an animal based on its attributes and will try two different values for the n_estimators hyperparameter:"
      ]
    },
    {
      "cell_type": "code",
      "metadata": {
        "id": "ogaIShyfd7j5",
        "colab_type": "code",
        "colab": {}
      },
      "source": [
        "#importing packages\n",
        "import pandas as pd\n",
        "from sklearn.model_selection import train_test_split\n",
        "from sklearn.ensemble import RandomForestClassifier\n",
        "from sklearn.metrics import accuracy_score"
      ],
      "execution_count": 0,
      "outputs": []
    },
    {
      "cell_type": "code",
      "metadata": {
        "id": "hGbspQMWfXbn",
        "colab_type": "code",
        "colab": {}
      },
      "source": [
        "#create a variable called file_url that contains url dataset\n",
        "file_url = 'https://raw.githubusercontent.com/PacktWorkshops/The-Data-Science-Workshop/master/Chapter04/Dataset/openml_phpZNNasq.csv'"
      ],
      "execution_count": 0,
      "outputs": []
    },
    {
      "cell_type": "code",
      "metadata": {
        "id": "QIjLRK4NgXxB",
        "colab_type": "code",
        "colab": {}
      },
      "source": [
        "#load the dataset into a dataframe\n",
        "df = pd.read_csv(file_url)"
      ],
      "execution_count": 0,
      "outputs": []
    },
    {
      "cell_type": "code",
      "metadata": {
        "id": "lmlvssBwgjPq",
        "colab_type": "code",
        "colab": {}
      },
      "source": [
        "#remove the animal colum using .drop() and extract the type target variable into a new variable called y using .pop()\n",
        "df.drop(columns='animal', inplace=True)\n",
        "y = df.pop('type')"
      ],
      "execution_count": 0,
      "outputs": []
    },
    {
      "cell_type": "code",
      "metadata": {
        "id": "IEk-bJZYg2tf",
        "colab_type": "code",
        "colab": {}
      },
      "source": [
        "#split the data into training and testing sets\n",
        "X_train, X_test, y_train, y_test = train_test_split(df, y, test_size=0.4, random_state=188)"
      ],
      "execution_count": 0,
      "outputs": []
    },
    {
      "cell_type": "code",
      "metadata": {
        "id": "EmWDgJj2hcC3",
        "colab_type": "code",
        "colab": {
          "base_uri": "https://localhost:8080/",
          "height": 160
        },
        "outputId": "7aa6d116-ac4c-4ef9-d4af-5154675a60d5"
      },
      "source": [
        "#instantiate RandomForestClassifier\n",
        "rf_model = RandomForestClassifier(random_state=42, n_estimators=1)\n",
        "rf_model.fit(X_train, y_train)"
      ],
      "execution_count": 8,
      "outputs": [
        {
          "output_type": "execute_result",
          "data": {
            "text/plain": [
              "RandomForestClassifier(bootstrap=True, ccp_alpha=0.0, class_weight=None,\n",
              "                       criterion='gini', max_depth=None, max_features='auto',\n",
              "                       max_leaf_nodes=None, max_samples=None,\n",
              "                       min_impurity_decrease=0.0, min_impurity_split=None,\n",
              "                       min_samples_leaf=1, min_samples_split=2,\n",
              "                       min_weight_fraction_leaf=0.0, n_estimators=1,\n",
              "                       n_jobs=None, oob_score=False, random_state=42, verbose=0,\n",
              "                       warm_start=False)"
            ]
          },
          "metadata": {
            "tags": []
          },
          "execution_count": 8
        }
      ]
    },
    {
      "cell_type": "code",
      "metadata": {
        "id": "OGJ3xcAPiJ6b",
        "colab_type": "code",
        "colab": {}
      },
      "source": [
        "#Make predictions on the training and testing sets\n",
        "train_preds = rf_model.predict(X_train)\n",
        "test_preds = rf_model.predict(X_test)"
      ],
      "execution_count": 0,
      "outputs": []
    },
    {
      "cell_type": "code",
      "metadata": {
        "id": "qVfvMC6XjH2W",
        "colab_type": "code",
        "colab": {}
      },
      "source": [
        "#calculate the accuracy score for the training and testing sets\n",
        "train_acc = accuracy_score(y_train, train_preds)\n",
        "test_acc = accuracy_score(y_test, test_preds)"
      ],
      "execution_count": 0,
      "outputs": []
    },
    {
      "cell_type": "code",
      "metadata": {
        "id": "tsxbMc5sjhwN",
        "colab_type": "code",
        "colab": {
          "base_uri": "https://localhost:8080/",
          "height": 52
        },
        "outputId": "dc53b781-cef7-419c-db76-90294aaf94a5"
      },
      "source": [
        "#print the accuracy scores\n",
        "print(train_acc)\n",
        "print(test_acc)"
      ],
      "execution_count": 11,
      "outputs": [
        {
          "output_type": "stream",
          "text": [
            "0.9166666666666666\n",
            "0.8048780487804879\n"
          ],
          "name": "stdout"
        }
      ]
    },
    {
      "cell_type": "markdown",
      "metadata": {
        "id": "Pw-m_zdlj93y",
        "colab_type": "text"
      },
      "source": [
        "The accuracy score decreased for both the training and testing sets. But now the difference is smaller compared to the results from Exercise 4.01.\n"
      ]
    },
    {
      "cell_type": "code",
      "metadata": {
        "id": "irWlbxU-jt5K",
        "colab_type": "code",
        "colab": {
          "base_uri": "https://localhost:8080/",
          "height": 160
        },
        "outputId": "4511e694-bb58-495c-9ad1-31ee06d3a1e0"
      },
      "source": [
        "#instantiate another RandomForestClassifier with random_state=42 and n_estimators=30, and then fit the model with the training set\n",
        "rf_model2 = RandomForestClassifier(random_state=42, n_estimators=30)\n",
        "rf_model2.fit(X_train, y_train)"
      ],
      "execution_count": 12,
      "outputs": [
        {
          "output_type": "execute_result",
          "data": {
            "text/plain": [
              "RandomForestClassifier(bootstrap=True, ccp_alpha=0.0, class_weight=None,\n",
              "                       criterion='gini', max_depth=None, max_features='auto',\n",
              "                       max_leaf_nodes=None, max_samples=None,\n",
              "                       min_impurity_decrease=0.0, min_impurity_split=None,\n",
              "                       min_samples_leaf=1, min_samples_split=2,\n",
              "                       min_weight_fraction_leaf=0.0, n_estimators=30,\n",
              "                       n_jobs=None, oob_score=False, random_state=42, verbose=0,\n",
              "                       warm_start=False)"
            ]
          },
          "metadata": {
            "tags": []
          },
          "execution_count": 12
        }
      ]
    },
    {
      "cell_type": "code",
      "metadata": {
        "id": "y0tA7rvRlQHa",
        "colab_type": "code",
        "colab": {}
      },
      "source": [
        "#make predictions on the training and testing sets with .predict() and ssave results into two new variables\n",
        "train_preds2 = rf_model2.predict(X_train)\n",
        "test_preds2 = rf_model2.predict(X_test)"
      ],
      "execution_count": 0,
      "outputs": []
    },
    {
      "cell_type": "code",
      "metadata": {
        "id": "X-xXJ51TmLOS",
        "colab_type": "code",
        "colab": {}
      },
      "source": [
        "#calculate the accuracy score for the training and testing sets and save the result in two new variables\n",
        "train_acc2 = accuracy_score(y_train, train_preds2)\n",
        "test_acc2 = accuracy_score(y_test, test_preds2)"
      ],
      "execution_count": 0,
      "outputs": []
    },
    {
      "cell_type": "code",
      "metadata": {
        "id": "JoGzXg9FmwPT",
        "colab_type": "code",
        "colab": {
          "base_uri": "https://localhost:8080/",
          "height": 52
        },
        "outputId": "d8215a85-24d4-4974-e956-ff21fd249403"
      },
      "source": [
        "#print the accuracy scores\n",
        "print(train_acc2)\n",
        "print(test_acc2)"
      ],
      "execution_count": 18,
      "outputs": [
        {
          "output_type": "stream",
          "text": [
            "1.0\n",
            "0.9024390243902439\n"
          ],
          "name": "stdout"
        }
      ]
    },
    {
      "cell_type": "markdown",
      "metadata": {
        "id": "JrKXf42NnUfV",
        "colab_type": "text"
      },
      "source": [
        "This output shows us the model is overfitting less compared to the results from the previous step and still has a very high-performance level for the training set.\n",
        "\n",
        "In the previous exercise, we achieved an accuracy score of 1 for the training set and 0.88 for the testing one. In this exercise, we trained two additional Random Forest models with n_estimators = 3 and 30. The model with the lowest number of trees has the lowest accuracy: 0.92 (training) and 0.8 (testing). On the other hand, increasing the number of trees to 30, we achieved a higher accuracy: 1 and 0.9. Our model is overfitting slightly less now. It is not perfect, but it is a good start."
      ]
    },
    {
      "cell_type": "code",
      "metadata": {
        "id": "bF0EzY7UnIVC",
        "colab_type": "code",
        "colab": {}
      },
      "source": [
        ""
      ],
      "execution_count": 0,
      "outputs": []
    }
  ]
}